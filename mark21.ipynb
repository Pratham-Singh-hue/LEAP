{
 "cells": [
  {
   "cell_type": "code",
   "execution_count": 1,
   "id": "7dc9623f-1ec8-4b78-a09e-fb5f7d6eaa2f",
   "metadata": {},
   "outputs": [
    {
     "name": "stdout",
     "output_type": "stream",
     "text": [
      "train_files 2839\n"
     ]
    }
   ],
   "source": [
    "import pandas as pd\n",
    "import numpy as np\n",
    "import seaborn as sns\n",
    "import matplotlib.pyplot as plt\n",
    "from glob import glob\n",
    "import xgboost as xgb\n",
    "import gc\n",
    "import random\n",
    "# import cupy as cp\n",
    "from sklearn.preprocessing import MinMaxScaler\n",
    "from dask_ml.model_selection import train_test_split\n",
    "from tqdm.notebook import tqdm\n",
    "from numba import jit\n",
    "\n",
    "# dask\n",
    "import dask.dataframe as dd\n",
    "from dask import delayed\n",
    "import dask.array as da\n",
    "\n",
    "# Pytorch modules\n",
    "import torch\n",
    "import torch.nn as nn\n",
    "import torch.optim as optim\n",
    "from torch.utils.data import Dataset, DataLoader\n",
    "import torch.nn.functional as F\n",
    "\n",
    "train_files = sorted(\n",
    "    glob(\"/output.parquet/*.parquet\")\n",
    ")\n",
    "print(\"train_files\", len(train_files))"
   ]
  },
  {
   "cell_type": "code",
   "execution_count": 2,
   "metadata": {},
   "outputs": [],
   "source": [
    "# train = pd.read_parquet(train_files[:1])\n",
    "train = dd.read_parquet(train_files[:10], chunksize='64MB')\n",
    "\n",
    "RANDOM_STATE = 42\n",
    "random.seed(RANDOM_STATE)"
   ]
  },
  {
   "cell_type": "code",
   "execution_count": 3,
   "metadata": {},
   "outputs": [
    {
     "data": {
      "text/html": [
       "<div>\n",
       "<style scoped>\n",
       "    .dataframe tbody tr th:only-of-type {\n",
       "        vertical-align: middle;\n",
       "    }\n",
       "\n",
       "    .dataframe tbody tr th {\n",
       "        vertical-align: top;\n",
       "    }\n",
       "\n",
       "    .dataframe thead th {\n",
       "        text-align: right;\n",
       "    }\n",
       "</style>\n",
       "<table border=\"1\" class=\"dataframe\">\n",
       "  <thead>\n",
       "    <tr style=\"text-align: right;\">\n",
       "      <th></th>\n",
       "      <th>sample_id</th>\n",
       "      <th>state_t_0</th>\n",
       "      <th>state_t_1</th>\n",
       "      <th>state_t_2</th>\n",
       "      <th>state_t_3</th>\n",
       "      <th>state_t_4</th>\n",
       "      <th>state_t_5</th>\n",
       "      <th>state_t_6</th>\n",
       "      <th>state_t_7</th>\n",
       "      <th>state_t_8</th>\n",
       "      <th>...</th>\n",
       "      <th>ptend_v_58</th>\n",
       "      <th>ptend_v_59</th>\n",
       "      <th>cam_out_NETSW</th>\n",
       "      <th>cam_out_FLWDS</th>\n",
       "      <th>cam_out_PRECSC</th>\n",
       "      <th>cam_out_PRECC</th>\n",
       "      <th>cam_out_SOLS</th>\n",
       "      <th>cam_out_SOLL</th>\n",
       "      <th>cam_out_SOLSD</th>\n",
       "      <th>cam_out_SOLLD</th>\n",
       "    </tr>\n",
       "  </thead>\n",
       "  <tbody>\n",
       "    <tr>\n",
       "      <th>0</th>\n",
       "      <td>train_0</td>\n",
       "      <td>213.806117</td>\n",
       "      <td>222.244454</td>\n",
       "      <td>229.259879</td>\n",
       "      <td>245.743959</td>\n",
       "      <td>258.337482</td>\n",
       "      <td>265.772467</td>\n",
       "      <td>263.978456</td>\n",
       "      <td>254.879872</td>\n",
       "      <td>243.946147</td>\n",
       "      <td>...</td>\n",
       "      <td>-6.132147e-07</td>\n",
       "      <td>1.401824e-06</td>\n",
       "      <td>0.0</td>\n",
       "      <td>349.564325</td>\n",
       "      <td>0.0</td>\n",
       "      <td>2.947672e-12</td>\n",
       "      <td>0.0</td>\n",
       "      <td>0.0</td>\n",
       "      <td>0.0</td>\n",
       "      <td>0.0</td>\n",
       "    </tr>\n",
       "    <tr>\n",
       "      <th>1</th>\n",
       "      <td>train_1</td>\n",
       "      <td>213.177430</td>\n",
       "      <td>225.851064</td>\n",
       "      <td>229.663618</td>\n",
       "      <td>246.828333</td>\n",
       "      <td>261.026415</td>\n",
       "      <td>269.078431</td>\n",
       "      <td>267.736565</td>\n",
       "      <td>256.896227</td>\n",
       "      <td>244.169421</td>\n",
       "      <td>...</td>\n",
       "      <td>3.560950e-07</td>\n",
       "      <td>9.984912e-07</td>\n",
       "      <td>0.0</td>\n",
       "      <td>335.204086</td>\n",
       "      <td>0.0</td>\n",
       "      <td>3.138366e-09</td>\n",
       "      <td>0.0</td>\n",
       "      <td>0.0</td>\n",
       "      <td>0.0</td>\n",
       "      <td>0.0</td>\n",
       "    </tr>\n",
       "    <tr>\n",
       "      <th>2</th>\n",
       "      <td>train_2</td>\n",
       "      <td>217.105685</td>\n",
       "      <td>220.448106</td>\n",
       "      <td>234.653398</td>\n",
       "      <td>244.422951</td>\n",
       "      <td>254.023818</td>\n",
       "      <td>259.651472</td>\n",
       "      <td>257.709514</td>\n",
       "      <td>251.064513</td>\n",
       "      <td>241.879600</td>\n",
       "      <td>...</td>\n",
       "      <td>1.565672e-06</td>\n",
       "      <td>6.186607e-05</td>\n",
       "      <td>0.0</td>\n",
       "      <td>401.709340</td>\n",
       "      <td>0.0</td>\n",
       "      <td>7.424215e-09</td>\n",
       "      <td>0.0</td>\n",
       "      <td>0.0</td>\n",
       "      <td>0.0</td>\n",
       "      <td>0.0</td>\n",
       "    </tr>\n",
       "    <tr>\n",
       "      <th>3</th>\n",
       "      <td>train_3</td>\n",
       "      <td>217.773994</td>\n",
       "      <td>225.611775</td>\n",
       "      <td>234.104091</td>\n",
       "      <td>247.745365</td>\n",
       "      <td>257.411402</td>\n",
       "      <td>263.470947</td>\n",
       "      <td>261.131775</td>\n",
       "      <td>253.303250</td>\n",
       "      <td>242.316814</td>\n",
       "      <td>...</td>\n",
       "      <td>-9.067304e-06</td>\n",
       "      <td>1.020519e-05</td>\n",
       "      <td>0.0</td>\n",
       "      <td>400.230177</td>\n",
       "      <td>0.0</td>\n",
       "      <td>2.534090e-08</td>\n",
       "      <td>0.0</td>\n",
       "      <td>0.0</td>\n",
       "      <td>0.0</td>\n",
       "      <td>0.0</td>\n",
       "    </tr>\n",
       "    <tr>\n",
       "      <th>4</th>\n",
       "      <td>train_4</td>\n",
       "      <td>216.349337</td>\n",
       "      <td>230.526083</td>\n",
       "      <td>233.650252</td>\n",
       "      <td>248.196013</td>\n",
       "      <td>262.500730</td>\n",
       "      <td>270.055663</td>\n",
       "      <td>268.863606</td>\n",
       "      <td>258.161645</td>\n",
       "      <td>244.442620</td>\n",
       "      <td>...</td>\n",
       "      <td>1.681596e-06</td>\n",
       "      <td>-6.378779e-06</td>\n",
       "      <td>0.0</td>\n",
       "      <td>321.960470</td>\n",
       "      <td>0.0</td>\n",
       "      <td>3.377415e-10</td>\n",
       "      <td>0.0</td>\n",
       "      <td>0.0</td>\n",
       "      <td>0.0</td>\n",
       "      <td>0.0</td>\n",
       "    </tr>\n",
       "  </tbody>\n",
       "</table>\n",
       "<p>5 rows × 925 columns</p>\n",
       "</div>"
      ],
      "text/plain": [
       "  sample_id   state_t_0   state_t_1   state_t_2   state_t_3   state_t_4  \\\n",
       "0   train_0  213.806117  222.244454  229.259879  245.743959  258.337482   \n",
       "1   train_1  213.177430  225.851064  229.663618  246.828333  261.026415   \n",
       "2   train_2  217.105685  220.448106  234.653398  244.422951  254.023818   \n",
       "3   train_3  217.773994  225.611775  234.104091  247.745365  257.411402   \n",
       "4   train_4  216.349337  230.526083  233.650252  248.196013  262.500730   \n",
       "\n",
       "    state_t_5   state_t_6   state_t_7   state_t_8  ...    ptend_v_58  \\\n",
       "0  265.772467  263.978456  254.879872  243.946147  ... -6.132147e-07   \n",
       "1  269.078431  267.736565  256.896227  244.169421  ...  3.560950e-07   \n",
       "2  259.651472  257.709514  251.064513  241.879600  ...  1.565672e-06   \n",
       "3  263.470947  261.131775  253.303250  242.316814  ... -9.067304e-06   \n",
       "4  270.055663  268.863606  258.161645  244.442620  ...  1.681596e-06   \n",
       "\n",
       "     ptend_v_59  cam_out_NETSW  cam_out_FLWDS  cam_out_PRECSC  cam_out_PRECC  \\\n",
       "0  1.401824e-06            0.0     349.564325             0.0   2.947672e-12   \n",
       "1  9.984912e-07            0.0     335.204086             0.0   3.138366e-09   \n",
       "2  6.186607e-05            0.0     401.709340             0.0   7.424215e-09   \n",
       "3  1.020519e-05            0.0     400.230177             0.0   2.534090e-08   \n",
       "4 -6.378779e-06            0.0     321.960470             0.0   3.377415e-10   \n",
       "\n",
       "   cam_out_SOLS  cam_out_SOLL  cam_out_SOLSD  cam_out_SOLLD  \n",
       "0           0.0           0.0            0.0            0.0  \n",
       "1           0.0           0.0            0.0            0.0  \n",
       "2           0.0           0.0            0.0            0.0  \n",
       "3           0.0           0.0            0.0            0.0  \n",
       "4           0.0           0.0            0.0            0.0  \n",
       "\n",
       "[5 rows x 925 columns]"
      ]
     },
     "execution_count": 3,
     "metadata": {},
     "output_type": "execute_result"
    }
   ],
   "source": [
    "train.head()"
   ]
  },
  {
   "cell_type": "code",
   "execution_count": 4,
   "metadata": {},
   "outputs": [
    {
     "name": "stdout",
     "output_type": "stream",
     "text": [
      "<class 'dask_expr.DataFrame'>\n",
      "Columns: 925 entries, sample_id to cam_out_SOLLD\n",
      "dtypes: float64(924), string(1)"
     ]
    }
   ],
   "source": [
    "train.info()"
   ]
  },
  {
   "cell_type": "code",
   "execution_count": 5,
   "metadata": {},
   "outputs": [],
   "source": [
    "train = train.dropna()\n",
    "train = train.drop_duplicates()"
   ]
  },
  {
   "cell_type": "code",
   "execution_count": 6,
   "metadata": {},
   "outputs": [],
   "source": [
    "# train.describe()"
   ]
  },
  {
   "cell_type": "code",
   "execution_count": 7,
   "metadata": {},
   "outputs": [],
   "source": [
    "# train.dtypes.value_counts()"
   ]
  },
  {
   "cell_type": "code",
   "execution_count": 8,
   "metadata": {},
   "outputs": [
    {
     "data": {
      "text/plain": [
       "Index([], dtype='object')"
      ]
     },
     "execution_count": 8,
     "metadata": {},
     "output_type": "execute_result"
    }
   ],
   "source": [
    "train.columns[ train.dtypes == 'object' ]"
   ]
  },
  {
   "cell_type": "code",
   "execution_count": 9,
   "metadata": {},
   "outputs": [],
   "source": [
    "train = train.drop(['sample_id'], axis=1)"
   ]
  },
  {
   "cell_type": "code",
   "execution_count": 10,
   "metadata": {},
   "outputs": [],
   "source": [
    "# size = train.shape"
   ]
  },
  {
   "cell_type": "markdown",
   "metadata": {},
   "source": [
    "# Preprocessing"
   ]
  },
  {
   "cell_type": "code",
   "execution_count": 11,
   "metadata": {},
   "outputs": [],
   "source": [
    "@delayed\n",
    "def remove_outliers(df_in):\n",
    "    Q1 = df_in.quantile(0.25)\n",
    "    Q3 = df_in.quantile(0.75)\n",
    "    IQR = Q3 - Q1\n",
    "    lower_limit = Q1 - 1.5 * IQR\n",
    "    upper_limit = Q3 + 1.5 * IQR\n",
    "    for col in range(0, df_in.shape[1]):\n",
    "        df_out = df_in[(df_in.iloc[:, col] >= lower_limit[col]) & (df_in.iloc[:, col] <= upper_limit[col])]\n",
    "    \n",
    "    # print(\"number of outliers removed = \", len(df_in)- len(df_out), \"\\n\")\n",
    "    return df_out"
   ]
  },
  {
   "cell_type": "code",
   "execution_count": 12,
   "metadata": {},
   "outputs": [],
   "source": [
    "# train = train.head(1000)\n",
    "train = remove_outliers(train)"
   ]
  },
  {
   "cell_type": "code",
   "execution_count": 13,
   "metadata": {},
   "outputs": [
    {
     "data": {
      "text/plain": [
       "0"
      ]
     },
     "execution_count": 13,
     "metadata": {},
     "output_type": "execute_result"
    }
   ],
   "source": [
    "all_targets = [\n",
    "    'ptend_t_0', 'ptend_t_1', 'ptend_t_2', 'ptend_t_3', 'ptend_t_4', 'ptend_t_5', 'ptend_t_6', 'ptend_t_7', 'ptend_t_8', 'ptend_t_9', 'ptend_t_10', 'ptend_t_11', 'ptend_t_12', 'ptend_t_13', 'ptend_t_14', 'ptend_t_15', 'ptend_t_16', 'ptend_t_17', 'ptend_t_18', 'ptend_t_19', 'ptend_t_20', 'ptend_t_21', 'ptend_t_22', 'ptend_t_23', 'ptend_t_24', 'ptend_t_25', 'ptend_t_26', 'ptend_t_27', 'ptend_t_28', 'ptend_t_29', 'ptend_t_30', 'ptend_t_31', 'ptend_t_32', 'ptend_t_33', 'ptend_t_34', 'ptend_t_35', 'ptend_t_36', 'ptend_t_37', 'ptend_t_38', 'ptend_t_39', 'ptend_t_40', 'ptend_t_41', 'ptend_t_42', 'ptend_t_43', 'ptend_t_44', 'ptend_t_45', 'ptend_t_46', 'ptend_t_47', 'ptend_t_48', 'ptend_t_49', 'ptend_t_50', 'ptend_t_51', 'ptend_t_52', 'ptend_t_53', 'ptend_t_54', 'ptend_t_55', 'ptend_t_56', 'ptend_t_57', 'ptend_t_58', 'ptend_t_59',\n",
    "    'ptend_q0001_0', 'ptend_q0001_1', 'ptend_q0001_2', 'ptend_q0001_3', 'ptend_q0001_4', 'ptend_q0001_5', 'ptend_q0001_6', 'ptend_q0001_7', 'ptend_q0001_8', 'ptend_q0001_9', 'ptend_q0001_10', 'ptend_q0001_11', 'ptend_q0001_12', 'ptend_q0001_13', 'ptend_q0001_14', 'ptend_q0001_15', 'ptend_q0001_16', 'ptend_q0001_17', 'ptend_q0001_18', 'ptend_q0001_19', 'ptend_q0001_20', 'ptend_q0001_21', 'ptend_q0001_22', 'ptend_q0001_23', 'ptend_q0001_24', 'ptend_q0001_25', 'ptend_q0001_26', 'ptend_q0001_27', 'ptend_q0001_28', 'ptend_q0001_29', 'ptend_q0001_30', 'ptend_q0001_31', 'ptend_q0001_32', 'ptend_q0001_33', 'ptend_q0001_34', 'ptend_q0001_35', 'ptend_q0001_36', 'ptend_q0001_37', 'ptend_q0001_38', 'ptend_q0001_39', 'ptend_q0001_40', 'ptend_q0001_41', 'ptend_q0001_42', 'ptend_q0001_43', 'ptend_q0001_44', 'ptend_q0001_45', 'ptend_q0001_46', 'ptend_q0001_47', 'ptend_q0001_48', 'ptend_q0001_49', 'ptend_q0001_50', 'ptend_q0001_51', 'ptend_q0001_52', 'ptend_q0001_53', 'ptend_q0001_54', 'ptend_q0001_55', 'ptend_q0001_56', 'ptend_q0001_57', 'ptend_q0001_58', 'ptend_q0001_59',\n",
    "    'ptend_q0002_0', 'ptend_q0002_1', 'ptend_q0002_2', 'ptend_q0002_3', 'ptend_q0002_4', 'ptend_q0002_5', 'ptend_q0002_6', 'ptend_q0002_7', 'ptend_q0002_8', 'ptend_q0002_9', 'ptend_q0002_10', 'ptend_q0002_11', 'ptend_q0002_12', 'ptend_q0002_13', 'ptend_q0002_14', 'ptend_q0002_15', 'ptend_q0002_16', 'ptend_q0002_17', 'ptend_q0002_18', 'ptend_q0002_19', 'ptend_q0002_20', 'ptend_q0002_21', 'ptend_q0002_22', 'ptend_q0002_23', 'ptend_q0002_24', 'ptend_q0002_25', 'ptend_q0002_26', 'ptend_q0002_27', 'ptend_q0002_28', 'ptend_q0002_29', 'ptend_q0002_30', 'ptend_q0002_31', 'ptend_q0002_32', 'ptend_q0002_33', 'ptend_q0002_34', 'ptend_q0002_35', 'ptend_q0002_36', 'ptend_q0002_37', 'ptend_q0002_38', 'ptend_q0002_39', 'ptend_q0002_40', 'ptend_q0002_41', 'ptend_q0002_42', 'ptend_q0002_43', 'ptend_q0002_44', 'ptend_q0002_45', 'ptend_q0002_46', 'ptend_q0002_47', 'ptend_q0002_48', 'ptend_q0002_49', 'ptend_q0002_50', 'ptend_q0002_51', 'ptend_q0002_52', 'ptend_q0002_53', 'ptend_q0002_54', 'ptend_q0002_55', 'ptend_q0002_56', 'ptend_q0002_57', 'ptend_q0002_58', 'ptend_q0002_59',\n",
    "    'ptend_q0003_0', 'ptend_q0003_1', 'ptend_q0003_2', 'ptend_q0003_3', 'ptend_q0003_4', 'ptend_q0003_5', 'ptend_q0003_6', 'ptend_q0003_7', 'ptend_q0003_8', 'ptend_q0003_9', 'ptend_q0003_10', 'ptend_q0003_11', 'ptend_q0003_12', 'ptend_q0003_13', 'ptend_q0003_14', 'ptend_q0003_15', 'ptend_q0003_16', 'ptend_q0003_17', 'ptend_q0003_18', 'ptend_q0003_19', 'ptend_q0003_20', 'ptend_q0003_21', 'ptend_q0003_22', 'ptend_q0003_23', 'ptend_q0003_24', 'ptend_q0003_25', 'ptend_q0003_26', 'ptend_q0003_27', 'ptend_q0003_28', 'ptend_q0003_29', 'ptend_q0003_30', 'ptend_q0003_31', 'ptend_q0003_32', 'ptend_q0003_33', 'ptend_q0003_34', 'ptend_q0003_35', 'ptend_q0003_36', 'ptend_q0003_37', 'ptend_q0003_38', 'ptend_q0003_39', 'ptend_q0003_40', 'ptend_q0003_41', 'ptend_q0003_42', 'ptend_q0003_43', 'ptend_q0003_44', 'ptend_q0003_45', 'ptend_q0003_46', 'ptend_q0003_47', 'ptend_q0003_48', 'ptend_q0003_49', 'ptend_q0003_50', 'ptend_q0003_51', 'ptend_q0003_52', 'ptend_q0003_53', 'ptend_q0003_54', 'ptend_q0003_55', 'ptend_q0003_56', 'ptend_q0003_57', 'ptend_q0003_58', 'ptend_q0003_59',\n",
    "    'ptend_u_0', 'ptend_u_1', 'ptend_u_2', 'ptend_u_3', 'ptend_u_4', 'ptend_u_5', 'ptend_u_6', 'ptend_u_7', 'ptend_u_8', 'ptend_u_9', 'ptend_u_10', 'ptend_u_11', 'ptend_u_12', 'ptend_u_13', 'ptend_u_14', 'ptend_u_15', 'ptend_u_16', 'ptend_u_17', 'ptend_u_18', 'ptend_u_19', 'ptend_u_20', 'ptend_u_21', 'ptend_u_22', 'ptend_u_23', 'ptend_u_24', 'ptend_u_25', 'ptend_u_26', 'ptend_u_27', 'ptend_u_28', 'ptend_u_29', 'ptend_u_30', 'ptend_u_31', 'ptend_u_32', 'ptend_u_33', 'ptend_u_34', 'ptend_u_35', 'ptend_u_36', 'ptend_u_37', 'ptend_u_38', 'ptend_u_39', 'ptend_u_40', 'ptend_u_41', 'ptend_u_42', 'ptend_u_43', 'ptend_u_44', 'ptend_u_45', 'ptend_u_46', 'ptend_u_47', 'ptend_u_48', 'ptend_u_49', 'ptend_u_50', 'ptend_u_51', 'ptend_u_52', 'ptend_u_53', 'ptend_u_54', 'ptend_u_55', 'ptend_u_56', 'ptend_u_57', 'ptend_u_58', 'ptend_u_59',\n",
    "    'ptend_v_0', 'ptend_v_1', 'ptend_v_2', 'ptend_v_3', 'ptend_v_4', 'ptend_v_5', 'ptend_v_6', 'ptend_v_7', 'ptend_v_8', 'ptend_v_9', 'ptend_v_10', 'ptend_v_11', 'ptend_v_12', 'ptend_v_13', 'ptend_v_14', 'ptend_v_15', 'ptend_v_16', 'ptend_v_17', 'ptend_v_18', 'ptend_v_19', 'ptend_v_20', 'ptend_v_21', 'ptend_v_22', 'ptend_v_23', 'ptend_v_24', 'ptend_v_25', 'ptend_v_26', 'ptend_v_27', 'ptend_v_28', 'ptend_v_29', 'ptend_v_30', 'ptend_v_31', 'ptend_v_32', 'ptend_v_33', 'ptend_v_34', 'ptend_v_35', 'ptend_v_36', 'ptend_v_37', 'ptend_v_38', 'ptend_v_39', 'ptend_v_40', 'ptend_v_41', 'ptend_v_42', 'ptend_v_43', 'ptend_v_44', 'ptend_v_45', 'ptend_v_46', 'ptend_v_47', 'ptend_v_48', 'ptend_v_49', 'ptend_v_50', 'ptend_v_51', 'ptend_v_52', 'ptend_v_53', 'ptend_v_54', 'ptend_v_55', 'ptend_v_56', 'ptend_v_57', 'ptend_v_58', 'ptend_v_59',\n",
    "    'cam_out_NETSW', 'cam_out_FLWDS', 'cam_out_PRECSC', 'cam_out_PRECC', 'cam_out_SOLS', 'cam_out_SOLL', 'cam_out_SOLSD', 'cam_out_SOLLD',\n",
    "]\n",
    "\n",
    "gc.collect()"
   ]
  },
  {
   "cell_type": "code",
   "execution_count": 14,
   "metadata": {},
   "outputs": [],
   "source": [
    "\n",
    "X = train.drop(columns = all_targets)\n",
    "y = train[all_targets]"
   ]
  },
  {
   "cell_type": "code",
   "execution_count": 15,
   "metadata": {},
   "outputs": [],
   "source": [
    "X_train, X_valid, y_train, y_valid = train_test_split(X.compute(), y.compute(), test_size=0.3, shuffle = False, random_state= RANDOM_STATE)\n"
   ]
  },
  {
   "cell_type": "code",
   "execution_count": 16,
   "metadata": {},
   "outputs": [],
   "source": [
    "scaler = MinMaxScaler()\n",
    "X_train = da.from_array(scaler.fit_transform(X_train))\n",
    "X_valid = da.from_array(scaler.transform(X_valid))"
   ]
  },
  {
   "cell_type": "code",
   "execution_count": 17,
   "metadata": {},
   "outputs": [],
   "source": [
    "# feat_cols = ['f'+str(i) for i in range(924)]"
   ]
  },
  {
   "cell_type": "code",
   "execution_count": 18,
   "metadata": {},
   "outputs": [],
   "source": [
    "# normalised_features = pd.DataFrame(X_train,columns=feat_cols)\n",
    "# normalised_features.head()"
   ]
  },
  {
   "cell_type": "code",
   "execution_count": 19,
   "metadata": {},
   "outputs": [],
   "source": [
    "# c = delayed(np.cov)(X_train)\n",
    "\n",
    "# Plot the covariance matrix\n",
    "# sns.heatmap(c)\n",
    "# plt.show()"
   ]
  },
  {
   "cell_type": "code",
   "execution_count": 20,
   "metadata": {},
   "outputs": [],
   "source": [
    "\n",
    "# def compute_eigen(c):\n",
    "#     eigenvalues, eigenvectors = np.linalg.eig(c)\n",
    "#     return eigenvalues, eigenvectors\n",
    "\n",
    "# eigenvalues, eigenvectors = compute_eigen(c.compute()   )\n",
    "\n",
    "# print('Eigen values Shape:', eigenvalues.shape)\n",
    "# print('Eigen Vector Shape:', eigenvectors.shape)"
   ]
  },
  {
   "cell_type": "code",
   "execution_count": 21,
   "metadata": {},
   "outputs": [],
   "source": [
    "# # Index the eigenvalues in descending order \n",
    "# idx = eigenvalues.argsort()[::-1]\n",
    "\n",
    "# # Sort the eigenvalues in descending order \n",
    "# eigenvalues = eigenvalues[idx]\n",
    "\n",
    "# # sort the corresponding eigenvectors accordingly\n",
    "# eigenvectors = eigenvectors[:,idx]\n"
   ]
  },
  {
   "cell_type": "code",
   "execution_count": 22,
   "metadata": {},
   "outputs": [],
   "source": [
    "\n",
    "# explained_var = cp.cumsum(eigenvalues) / cp.sum(eigenvalues)\n",
    "# explained_var"
   ]
  },
  {
   "cell_type": "code",
   "execution_count": 23,
   "metadata": {},
   "outputs": [],
   "source": [
    "# n_components = cp.argmax(explained_var >= 0.95) + 1\n",
    "# n_components"
   ]
  },
  {
   "cell_type": "code",
   "execution_count": 24,
   "metadata": {},
   "outputs": [],
   "source": [
    "# def find_n_components(explained_var, threshold=0.9):\n",
    "#     n_components = np.argmax(explained_var >= threshold) + 1\n",
    "#     return n_components\n",
    "\n",
    "# # Create an array of thresholds from 0.6 to 0.95\n",
    "# thresholds = np.linspace(0.5, 0.98, 20)\n",
    "\n",
    "# # Calculate the corresponding number of components for each threshold\n",
    "# n_components_list = [find_n_components(explained_var, t) for t in thresholds]\n",
    "\n",
    "# # Plot the results\n",
    "# plt.figure(figsize=(8, 6))\n",
    "# plt.plot(thresholds, n_components_list, marker='o', linestyle='-', color='b')\n",
    "# plt.xlabel('Explained Variance Threshold')\n",
    "# plt.ylabel('Number of Components')\n",
    "# plt.title('Number of Components vs. Explained Variance Threshold')\n",
    "# plt.grid(True)\n",
    "# plt.show()"
   ]
  },
  {
   "cell_type": "code",
   "execution_count": 25,
   "metadata": {},
   "outputs": [],
   "source": [
    "from sklearn.decomposition import PCA\n",
    "n_components = 27 # for explained_var >= 0.91 or use 40 for explained_var >= 0.95\n",
    "pca_train = PCA(n_components=n_components)\n",
    "principalComponents_X = da.from_array(pca_train.fit_transform(X_train))\n",
    "principalComponents_valid = da.from_array(pca_train.fit_transform(X_valid))"
   ]
  },
  {
   "cell_type": "code",
   "execution_count": 26,
   "metadata": {},
   "outputs": [
    {
     "data": {
      "text/html": [
       "<div>\n",
       "<style scoped>\n",
       "    .dataframe tbody tr th:only-of-type {\n",
       "        vertical-align: middle;\n",
       "    }\n",
       "\n",
       "    .dataframe tbody tr th {\n",
       "        vertical-align: top;\n",
       "    }\n",
       "\n",
       "    .dataframe thead th {\n",
       "        text-align: right;\n",
       "    }\n",
       "</style>\n",
       "<table border=\"1\" class=\"dataframe\">\n",
       "  <thead>\n",
       "    <tr style=\"text-align: right;\">\n",
       "      <th></th>\n",
       "      <th>pc0</th>\n",
       "      <th>pc1</th>\n",
       "      <th>pc2</th>\n",
       "      <th>pc3</th>\n",
       "      <th>pc4</th>\n",
       "      <th>pc5</th>\n",
       "      <th>pc6</th>\n",
       "      <th>pc7</th>\n",
       "      <th>pc8</th>\n",
       "      <th>pc9</th>\n",
       "      <th>...</th>\n",
       "      <th>pc17</th>\n",
       "      <th>pc18</th>\n",
       "      <th>pc19</th>\n",
       "      <th>pc20</th>\n",
       "      <th>pc21</th>\n",
       "      <th>pc22</th>\n",
       "      <th>pc23</th>\n",
       "      <th>pc24</th>\n",
       "      <th>pc25</th>\n",
       "      <th>pc26</th>\n",
       "    </tr>\n",
       "  </thead>\n",
       "  <tbody>\n",
       "    <tr>\n",
       "      <th>0</th>\n",
       "      <td>0.302526</td>\n",
       "      <td>0.281959</td>\n",
       "      <td>-1.421060</td>\n",
       "      <td>-0.426346</td>\n",
       "      <td>0.407255</td>\n",
       "      <td>0.767697</td>\n",
       "      <td>1.614002</td>\n",
       "      <td>-0.573098</td>\n",
       "      <td>0.128043</td>\n",
       "      <td>-0.919841</td>\n",
       "      <td>...</td>\n",
       "      <td>0.051264</td>\n",
       "      <td>-0.125875</td>\n",
       "      <td>-0.016372</td>\n",
       "      <td>-0.128403</td>\n",
       "      <td>-0.078496</td>\n",
       "      <td>0.179085</td>\n",
       "      <td>-0.124270</td>\n",
       "      <td>0.051309</td>\n",
       "      <td>0.103372</td>\n",
       "      <td>0.174178</td>\n",
       "    </tr>\n",
       "    <tr>\n",
       "      <th>1</th>\n",
       "      <td>1.390340</td>\n",
       "      <td>-0.496792</td>\n",
       "      <td>-1.452311</td>\n",
       "      <td>-0.405559</td>\n",
       "      <td>0.735053</td>\n",
       "      <td>0.409318</td>\n",
       "      <td>0.602232</td>\n",
       "      <td>0.404186</td>\n",
       "      <td>-0.754187</td>\n",
       "      <td>0.002251</td>\n",
       "      <td>...</td>\n",
       "      <td>0.101323</td>\n",
       "      <td>-0.118937</td>\n",
       "      <td>-0.184172</td>\n",
       "      <td>0.057911</td>\n",
       "      <td>0.658714</td>\n",
       "      <td>-0.088542</td>\n",
       "      <td>0.129314</td>\n",
       "      <td>-0.123092</td>\n",
       "      <td>-0.019326</td>\n",
       "      <td>0.221541</td>\n",
       "    </tr>\n",
       "    <tr>\n",
       "      <th>2</th>\n",
       "      <td>0.586901</td>\n",
       "      <td>0.687643</td>\n",
       "      <td>-2.722683</td>\n",
       "      <td>1.652180</td>\n",
       "      <td>0.834572</td>\n",
       "      <td>-0.371018</td>\n",
       "      <td>0.044713</td>\n",
       "      <td>0.202798</td>\n",
       "      <td>0.173697</td>\n",
       "      <td>-1.338533</td>\n",
       "      <td>...</td>\n",
       "      <td>-0.033299</td>\n",
       "      <td>0.000070</td>\n",
       "      <td>-0.142098</td>\n",
       "      <td>0.035399</td>\n",
       "      <td>-0.652186</td>\n",
       "      <td>0.299531</td>\n",
       "      <td>-0.246478</td>\n",
       "      <td>0.485000</td>\n",
       "      <td>-0.020951</td>\n",
       "      <td>-0.463480</td>\n",
       "    </tr>\n",
       "    <tr>\n",
       "      <th>3</th>\n",
       "      <td>1.205967</td>\n",
       "      <td>0.189825</td>\n",
       "      <td>-2.483626</td>\n",
       "      <td>1.055568</td>\n",
       "      <td>0.962218</td>\n",
       "      <td>-1.043993</td>\n",
       "      <td>-0.083958</td>\n",
       "      <td>0.237264</td>\n",
       "      <td>0.079225</td>\n",
       "      <td>-0.806660</td>\n",
       "      <td>...</td>\n",
       "      <td>-0.191556</td>\n",
       "      <td>0.043145</td>\n",
       "      <td>-0.435658</td>\n",
       "      <td>0.093835</td>\n",
       "      <td>0.725862</td>\n",
       "      <td>-0.346930</td>\n",
       "      <td>-0.158732</td>\n",
       "      <td>-0.232297</td>\n",
       "      <td>0.105648</td>\n",
       "      <td>0.040785</td>\n",
       "    </tr>\n",
       "    <tr>\n",
       "      <th>4</th>\n",
       "      <td>-0.244606</td>\n",
       "      <td>0.905733</td>\n",
       "      <td>-1.751348</td>\n",
       "      <td>0.529240</td>\n",
       "      <td>0.842424</td>\n",
       "      <td>-0.407920</td>\n",
       "      <td>-0.397850</td>\n",
       "      <td>-0.230981</td>\n",
       "      <td>0.472881</td>\n",
       "      <td>0.960708</td>\n",
       "      <td>...</td>\n",
       "      <td>0.755654</td>\n",
       "      <td>-0.111699</td>\n",
       "      <td>0.420318</td>\n",
       "      <td>0.137791</td>\n",
       "      <td>0.177734</td>\n",
       "      <td>-0.327085</td>\n",
       "      <td>-0.076359</td>\n",
       "      <td>-0.103640</td>\n",
       "      <td>-0.150480</td>\n",
       "      <td>-0.006181</td>\n",
       "    </tr>\n",
       "  </tbody>\n",
       "</table>\n",
       "<p>5 rows × 27 columns</p>\n",
       "</div>"
      ],
      "text/plain": [
       "        pc0       pc1       pc2       pc3       pc4       pc5       pc6  \\\n",
       "0  0.302526  0.281959 -1.421060 -0.426346  0.407255  0.767697  1.614002   \n",
       "1  1.390340 -0.496792 -1.452311 -0.405559  0.735053  0.409318  0.602232   \n",
       "2  0.586901  0.687643 -2.722683  1.652180  0.834572 -0.371018  0.044713   \n",
       "3  1.205967  0.189825 -2.483626  1.055568  0.962218 -1.043993 -0.083958   \n",
       "4 -0.244606  0.905733 -1.751348  0.529240  0.842424 -0.407920 -0.397850   \n",
       "\n",
       "        pc7       pc8       pc9  ...      pc17      pc18      pc19      pc20  \\\n",
       "0 -0.573098  0.128043 -0.919841  ...  0.051264 -0.125875 -0.016372 -0.128403   \n",
       "1  0.404186 -0.754187  0.002251  ...  0.101323 -0.118937 -0.184172  0.057911   \n",
       "2  0.202798  0.173697 -1.338533  ... -0.033299  0.000070 -0.142098  0.035399   \n",
       "3  0.237264  0.079225 -0.806660  ... -0.191556  0.043145 -0.435658  0.093835   \n",
       "4 -0.230981  0.472881  0.960708  ...  0.755654 -0.111699  0.420318  0.137791   \n",
       "\n",
       "       pc21      pc22      pc23      pc24      pc25      pc26  \n",
       "0 -0.078496  0.179085 -0.124270  0.051309  0.103372  0.174178  \n",
       "1  0.658714 -0.088542  0.129314 -0.123092 -0.019326  0.221541  \n",
       "2 -0.652186  0.299531 -0.246478  0.485000 -0.020951 -0.463480  \n",
       "3  0.725862 -0.346930 -0.158732 -0.232297  0.105648  0.040785  \n",
       "4  0.177734 -0.327085 -0.076359 -0.103640 -0.150480 -0.006181  \n",
       "\n",
       "[5 rows x 27 columns]"
      ]
     },
     "execution_count": 26,
     "metadata": {},
     "output_type": "execute_result"
    }
   ],
   "source": [
    "pc_cols = np.array(['pc'+str(i) for i in range(n_components)])\n",
    "principal_train_df = dd.from_dask_array(principalComponents_X, columns=pc_cols)\n",
    "principal_valid_df = dd.from_dask_array(principalComponents_valid, columns=pc_cols)\n",
    "principal_train_df.head()"
   ]
  },
  {
   "cell_type": "code",
   "execution_count": 27,
   "metadata": {},
   "outputs": [
    {
     "name": "stdout",
     "output_type": "stream",
     "text": [
      "Explained variation per principal component: [0.41288821 0.11573974 0.11068556 0.07189003 0.04913327 0.04441526\n",
      " 0.02842926 0.01966136 0.01715163 0.01405386 0.01097062 0.00970282\n",
      " 0.00831909 0.00747496 0.00558914 0.0049691  0.00445204 0.00399071\n",
      " 0.00331866 0.00320708 0.00315389 0.00300112 0.00257027 0.00234184\n",
      " 0.00220446 0.00199053 0.0019442 ]\n"
     ]
    }
   ],
   "source": [
    "print('Explained variation per principal component: {}'.format(pca_train.explained_variance_ratio_))"
   ]
  },
  {
   "cell_type": "code",
   "execution_count": 28,
   "metadata": {},
   "outputs": [],
   "source": [
    "# import numpy as np\n",
    "# import matplotlib.pyplot as plt\n",
    "# from xgboost import XGBRegressor  # or XGBRegressor\n",
    "\n",
    "# # Load your dataset (X: features, y: target)\n",
    "# # Initialize and train the XGBoost model\n",
    "# model = XGBRegressor()  # Change to XGBRegressor for regression\n",
    "# model.fit(principal_train_df, y_train)\n",
    "\n",
    "# # Get feature importances\n",
    "# importances = model.feature_importances_\n",
    "\n",
    "# # Plot feature importances\n",
    "# plt.figure(figsize=(10, 6))\n",
    "# plt.barh(range(len(importances)), importances, align='center')\n",
    "# plt.yticks(range(len(importances)), pc_cols)  # Replace with your feature names\n",
    "# plt.xlabel('Importance')\n",
    "# plt.ylabel('Features')\n",
    "# plt.title('Feature Importances')\n",
    "# plt.show()\n"
   ]
  },
  {
   "cell_type": "code",
   "execution_count": 29,
   "metadata": {},
   "outputs": [],
   "source": [
    "# from sklearn.metrics import r2_score\n",
    "# y_pred = model.predict(principal_valid_df)\n",
    "# r2 = r2_score(y_valid, y_pred)\n",
    "# print(f\"Best r Squared score: {r2:.2f}\")"
   ]
  },
  {
   "cell_type": "code",
   "execution_count": 30,
   "metadata": {},
   "outputs": [],
   "source": [
    "\n",
    "# pc_cols = pc_cols[importances>0.01]\n",
    "# len(pc_cols)"
   ]
  },
  {
   "cell_type": "code",
   "execution_count": 31,
   "metadata": {},
   "outputs": [],
   "source": [
    "# principal_train_df = principal_train_df[pc_cols]\n",
    "# principal_valid_df = principal_valid_df[pc_cols]"
   ]
  },
  {
   "cell_type": "code",
   "execution_count": 32,
   "metadata": {},
   "outputs": [],
   "source": [
    "scaler = MinMaxScaler()\n",
    "X_trainpc = scaler.fit_transform(principal_train_df)\n",
    "X_validpc = scaler.transform(principal_valid_df)"
   ]
  },
  {
   "cell_type": "code",
   "execution_count": 33,
   "metadata": {},
   "outputs": [],
   "source": [
    "X_validpc, X_testpc, y_validpc, y_testpc = train_test_split(X_validpc, y_valid, test_size=0.3, shuffle = False, random_state= RANDOM_STATE)"
   ]
  },
  {
   "cell_type": "code",
   "execution_count": 34,
   "metadata": {},
   "outputs": [
    {
     "data": {
      "text/plain": [
       "(22517, 27)"
      ]
     },
     "execution_count": 34,
     "metadata": {},
     "output_type": "execute_result"
    }
   ],
   "source": [
    "X_trainpc.shape"
   ]
  },
  {
   "cell_type": "code",
   "execution_count": 35,
   "metadata": {},
   "outputs": [
    {
     "data": {
      "text/plain": [
       "numpy.ndarray"
      ]
     },
     "execution_count": 35,
     "metadata": {},
     "output_type": "execute_result"
    }
   ],
   "source": [
    "type(X_trainpc)"
   ]
  },
  {
   "cell_type": "code",
   "execution_count": 36,
   "metadata": {},
   "outputs": [
    {
     "data": {
      "text/plain": [
       "pandas.core.frame.DataFrame"
      ]
     },
     "execution_count": 36,
     "metadata": {},
     "output_type": "execute_result"
    }
   ],
   "source": [
    "type(y_train)"
   ]
  },
  {
   "cell_type": "markdown",
   "metadata": {},
   "source": [
    "# Defining model"
   ]
  },
  {
   "cell_type": "code",
   "execution_count": 37,
   "metadata": {},
   "outputs": [],
   "source": [
    "BATCH_SIZE = 64\n",
    "NUM_FEATURES = len(pc_cols)\n",
    "NUM_TARGETS = len(y_train.columns)\n",
    "NUM_EPOCHS = 100\n",
    "\n",
    "torch.cuda.manual_seed(RANDOM_STATE)"
   ]
  },
  {
   "cell_type": "code",
   "execution_count": 38,
   "metadata": {},
   "outputs": [
    {
     "name": "stdout",
     "output_type": "stream",
     "text": [
      "cuda:0\n"
     ]
    }
   ],
   "source": [
    "device = torch.device(\"cuda:0\" if torch.cuda.is_available() else \"cpu\")\n",
    "print(device)"
   ]
  },
  {
   "cell_type": "code",
   "execution_count": 39,
   "metadata": {},
   "outputs": [],
   "source": [
    "\n",
    "class Atmos(Dataset):\n",
    "    \n",
    "    def __init__(self, X_data, y_data):\n",
    "        self.X_data = X_data\n",
    "        self.y_data = y_data\n",
    "        \n",
    "    def __getitem__(self, index):\n",
    "        return self.X_data[index], self.y_data[index]\n",
    "        \n",
    "    def __len__ (self):\n",
    "        return len(self.X_data)\n",
    "\n",
    "# As you can see we define torch arrays - then we will put them into device\n",
    "train_dataset = Atmos(torch.from_numpy(X_trainpc).float(), torch.from_numpy(y_train.values).float())\n",
    "valid_dataset = Atmos(torch.from_numpy(X_validpc).float(), torch.from_numpy(y_validpc.values).float())\n",
    "test_dataset = Atmos(torch.from_numpy(X_testpc).float(), torch.from_numpy(y_testpc.values).float())"
   ]
  },
  {
   "cell_type": "code",
   "execution_count": 40,
   "metadata": {},
   "outputs": [],
   "source": [
    "# Data loaders \n",
    "train_loader = DataLoader(dataset=train_dataset,\n",
    "                          batch_size=BATCH_SIZE)\n",
    "\n",
    "valid_loader = DataLoader(dataset=valid_dataset, batch_size=1)\n",
    "test_loader = DataLoader(dataset=test_dataset, batch_size=1)"
   ]
  },
  {
   "cell_type": "code",
   "execution_count": 41,
   "metadata": {},
   "outputs": [],
   "source": [
    "# # You can test it if you want - take first batch (size = 16) and print size\n",
    "\n",
    "# for batch_idx, (train_features, train_labels) in enumerate(train_loader):\n",
    "#     print(f\"Batch #{batch_idx + 1}\")\n",
    "#     print(f\"Feature batch shape: {train_features.size()}\")\n",
    "#     print(f\"Labels batch shape: {train_labels.size()}\")\n",
    "#     print(\"First row from batch\")\n",
    "#     print(train_features[0])"
   ]
  },
  {
   "cell_type": "code",
   "execution_count": 42,
   "metadata": {},
   "outputs": [],
   "source": [
    "class AtmosRegressionModel(nn.Module):\n",
    "    def __init__(self, num_feature, num_outputs):\n",
    "        super(AtmosRegressionModel, self).__init__()\n",
    "        \n",
    "        self.layer_1 = nn.Linear(num_feature, 32)\n",
    "        self.layer_2 = nn.Linear(32, 16)\n",
    "        # self.layer_3 = nn.Linear(64, 32)\n",
    "        self.layer_out = nn.Linear(16, num_outputs)  \n",
    "        \n",
    "        torch.nn.init.xavier_normal_(self.layer_1.weight)\n",
    "        torch.nn.init.xavier_normal_(self.layer_2.weight)\n",
    "        # torch.nn.init.xavier_normal_(self.layer_3.weight)\n",
    "        torch.nn.init.xavier_normal_(self.layer_out.weight)\n",
    "        \n",
    "        self.dropout_1 = nn.Dropout(p=0.3)\n",
    "        self.dropout_2 = nn.Dropout(p=0.2)\n",
    "        \n",
    "        self.batchnorm_1 = nn.BatchNorm1d(32)\n",
    "        self.batchnorm_2 = nn.BatchNorm1d(16)\n",
    "        # self.batchnorm_3 = nn.BatchNorm1d(32)\n",
    "        \n",
    "        self.relu = nn.ReLU()\n",
    "    \n",
    "    def forward(self, x):\n",
    "        x = self.layer_1(x)\n",
    "        x = F.relu(x)\n",
    "        x = self.dropout_1(x)\n",
    "        \n",
    "        x = self.layer_2(x)\n",
    "        x = self.relu(x)\n",
    "        x = self.dropout_2(x)\n",
    "        \n",
    "        # x = self.layer_3(x)\n",
    "        # x = self.relu(x)\n",
    "        # x = self.dropout_2(x)\n",
    "        \n",
    "        x = self.layer_out(x) \n",
    "        return x\n"
   ]
  },
  {
   "cell_type": "code",
   "execution_count": 43,
   "metadata": {},
   "outputs": [
    {
     "data": {
      "text/plain": [
       "AtmosRegressionModel(\n",
       "  (layer_1): Linear(in_features=27, out_features=32, bias=True)\n",
       "  (layer_2): Linear(in_features=32, out_features=16, bias=True)\n",
       "  (layer_out): Linear(in_features=16, out_features=368, bias=True)\n",
       "  (dropout_1): Dropout(p=0.3, inplace=False)\n",
       "  (dropout_2): Dropout(p=0.2, inplace=False)\n",
       "  (batchnorm_1): BatchNorm1d(32, eps=1e-05, momentum=0.1, affine=True, track_running_stats=True)\n",
       "  (batchnorm_2): BatchNorm1d(16, eps=1e-05, momentum=0.1, affine=True, track_running_stats=True)\n",
       "  (relu): ReLU()\n",
       ")"
      ]
     },
     "execution_count": 43,
     "metadata": {},
     "output_type": "execute_result"
    }
   ],
   "source": [
    "modelMod = AtmosRegressionModel(num_feature = NUM_FEATURES, num_outputs=NUM_TARGETS)\n",
    "modelMod.to(device)"
   ]
  },
  {
   "cell_type": "code",
   "execution_count": 44,
   "metadata": {},
   "outputs": [],
   "source": [
    "class R2Loss(nn.Module):\n",
    "    def forward(self, y_pred, y_true):\n",
    "        # Calculate the R2 score\n",
    "        SS_res = torch.sum((y_true - y_pred) ** 2)\n",
    "        SS_tot = torch.sum((y_true - torch.mean(y_true)) ** 2)\n",
    "        r2 = SS_res / SS_tot # I have reduced this problem to 1-r2 to make it a minimization problem so now this ratio should be near to 0\n",
    "        return r2"
   ]
  },
  {
   "cell_type": "code",
   "execution_count": 45,
   "metadata": {},
   "outputs": [],
   "source": [
    "criterion = R2Loss()    #  nn.MSELoss()\n",
    "model = modelMod"
   ]
  },
  {
   "cell_type": "code",
   "execution_count": 46,
   "metadata": {},
   "outputs": [],
   "source": [
    "LEARNING_RATE = 0.001\n",
    "optimizer = optim.Adam(model.parameters(), lr = LEARNING_RATE)\n",
    "from torch.optim.lr_scheduler import ReduceLROnPlateau\n",
    "scheduler = ReduceLROnPlateau(optimizer, 'min', patience = 3)"
   ]
  },
  {
   "cell_type": "code",
   "execution_count": 47,
   "metadata": {},
   "outputs": [],
   "source": [
    "loss_stat = {'train': [], \"validation\": [] ,\"test\": []}\n",
    "\n",
    "def mse_loss(y_pred, y_test):\n",
    "    # Calculate Mean Squared Error (MSE)\n",
    "    loss = nn.MSELoss()(y_pred, y_test)\n",
    "    return loss.item()"
   ]
  },
  {
   "cell_type": "code",
   "execution_count": 48,
   "metadata": {},
   "outputs": [],
   "source": [
    "class EarlyStoppingCallback:\n",
    "    def __init__(self, min_delta=0.1, patience=5):\n",
    "        self.min_delta = min_delta\n",
    "        self.patience = patience\n",
    "        self.best_loss = float('inf')  # Initialize with a large value\n",
    "        self.attempt = 0\n",
    "        self.stop_training = False\n",
    "\n",
    "    def __call__(self, validation_loss):\n",
    "        if validation_loss < self.best_loss - self.min_delta:\n",
    "            self.best_loss = validation_loss\n",
    "            self.attempt = 0\n",
    "        else:\n",
    "            self.attempt += 1\n",
    "            print(f'Message from callback (Early Stopping) counter: {self.attempt}/{self.patience}')\n",
    "            if self.attempt >= self.patience:\n",
    "                self.stop_training = True\n"
   ]
  },
  {
   "cell_type": "code",
   "execution_count": 49,
   "metadata": {},
   "outputs": [],
   "source": [
    "def train_nn():\n",
    "    best_val_loss = float('inf')\n",
    "    for progress in tqdm(range(1, NUM_EPOCHS + 1)):\n",
    "        train_epoch_loss = 0\n",
    "\n",
    "        model.train()\n",
    "\n",
    "        for X_train_batch, y_train_batch in train_loader:\n",
    "            X_train_batch, y_train_batch = X_train_batch.to(device), y_train_batch.to(device)\n",
    "\n",
    "            optimizer.zero_grad()\n",
    "            y_train_pred = model(X_train_batch)\n",
    "\n",
    "            # Use Mean Squared Error (MSE) for regression\n",
    "            train_loss = criterion(y_train_pred, y_train_batch)\n",
    "\n",
    "            train_loss.backward()\n",
    "            optimizer.step()\n",
    "\n",
    "            train_epoch_loss += train_loss.item()\n",
    "\n",
    "        with torch.no_grad():\n",
    "            val_epoch_loss = 0\n",
    "\n",
    "            model.eval()\n",
    "            for X_val_batch, y_val_batch in valid_loader:\n",
    "                X_val_batch, y_val_batch = X_val_batch.to(device), y_val_batch.to(device)\n",
    "                y_val_pred = model(X_val_batch)\n",
    "\n",
    "                val_loss = criterion(y_val_pred, y_val_batch)\n",
    "                val_epoch_loss += val_loss.item()\n",
    "                \n",
    "            test_epoch_loss = 0\n",
    "            \n",
    "            model.eval()\n",
    "            for X_test_batch, y_test_batch in test_loader:\n",
    "                X_test_batch, y_test_batch = X_test_batch.to(device), y_test_batch.to(device)\n",
    "                y_test_pred = model(X_test_batch)\n",
    "\n",
    "                test_loss = criterion(y_test_pred, y_test_batch)\n",
    "                test_epoch_loss += test_loss.item()\n",
    "\n",
    "                if val_epoch_loss < best_val_loss:\n",
    "                    best_val_loss = val_epoch_loss\n",
    "                    torch.save(model.state_dict(), 'best_model6.pth')\n",
    "\n",
    "        early_stopping_callback(val_epoch_loss / len(valid_loader))\n",
    "        if early_stopping_callback.stop_training:\n",
    "            print(f'Training stopped -> Early Stopping Callback: validation_loss: {val_epoch_loss / len(valid_loader)}')\n",
    "            break\n",
    "\n",
    "        loss_stat['train'].append(train_epoch_loss / len(train_loader))\n",
    "        loss_stat['validation'].append(val_epoch_loss / len(valid_loader))\n",
    "        loss_stat['test'].append(test_epoch_loss / len(test_loader))\n",
    "\n",
    "        clr = optimizer.param_groups[0]['lr']\n",
    "        scheduler.step(val_epoch_loss / len(valid_loader))\n",
    "\n",
    "        print(f'Epoch {progress:03}: Loss: [Train: {train_epoch_loss / len(train_loader):.4f} | Validation: {val_epoch_loss / len(valid_loader):.4f} | Testing: {test_epoch_loss / len(test_loader):.4f}] LR: {clr}')\n"
   ]
  },
  {
   "cell_type": "code",
   "execution_count": 50,
   "metadata": {},
   "outputs": [],
   "source": [
    "early_stopping_callback = EarlyStoppingCallback(0.001, 3)"
   ]
  },
  {
   "cell_type": "markdown",
   "metadata": {},
   "source": [
    "# Training"
   ]
  },
  {
   "cell_type": "code",
   "execution_count": 51,
   "metadata": {},
   "outputs": [
    {
     "data": {
      "application/vnd.jupyter.widget-view+json": {
       "model_id": "1d1100df5d374722b344dff7a7d8dadd",
       "version_major": 2,
       "version_minor": 0
      },
      "text/plain": [
       "  0%|          | 0/100 [00:00<?, ?it/s]"
      ]
     },
     "metadata": {},
     "output_type": "display_data"
    },
    {
     "name": "stdout",
     "output_type": "stream",
     "text": [
      "Epoch 001: Loss: [Train: 0.7136 | Validation: 0.3239 | Testing: 0.3333] LR: 0.001\n",
      "Epoch 002: Loss: [Train: 0.3788 | Validation: 0.3024 | Testing: 0.3102] LR: 0.001\n",
      "Epoch 003: Loss: [Train: 0.3632 | Validation: 0.2759 | Testing: 0.2811] LR: 0.001\n",
      "Epoch 004: Loss: [Train: 0.3412 | Validation: 0.2355 | Testing: 0.2380] LR: 0.001\n",
      "Epoch 005: Loss: [Train: 0.3123 | Validation: 0.1929 | Testing: 0.1943] LR: 0.001\n",
      "Epoch 006: Loss: [Train: 0.2760 | Validation: 0.1651 | Testing: 0.1675] LR: 0.001\n",
      "Epoch 007: Loss: [Train: 0.2417 | Validation: 0.1493 | Testing: 0.1535] LR: 0.001\n",
      "Epoch 008: Loss: [Train: 0.2091 | Validation: 0.1377 | Testing: 0.1425] LR: 0.001\n",
      "Epoch 009: Loss: [Train: 0.1786 | Validation: 0.1267 | Testing: 0.1313] LR: 0.001\n",
      "Epoch 010: Loss: [Train: 0.1554 | Validation: 0.1162 | Testing: 0.1203] LR: 0.001\n",
      "Epoch 011: Loss: [Train: 0.1353 | Validation: 0.1072 | Testing: 0.1107] LR: 0.001\n",
      "Epoch 012: Loss: [Train: 0.1220 | Validation: 0.1000 | Testing: 0.1029] LR: 0.001\n",
      "Epoch 013: Loss: [Train: 0.1114 | Validation: 0.0963 | Testing: 0.0990] LR: 0.001\n",
      "Epoch 014: Loss: [Train: 0.1045 | Validation: 0.0895 | Testing: 0.0914] LR: 0.001\n",
      "Epoch 015: Loss: [Train: 0.0980 | Validation: 0.0858 | Testing: 0.0874] LR: 0.001\n",
      "Epoch 016: Loss: [Train: 0.0953 | Validation: 0.0829 | Testing: 0.0839] LR: 0.001\n",
      "Epoch 017: Loss: [Train: 0.0926 | Validation: 0.0794 | Testing: 0.0800] LR: 0.001\n",
      "Epoch 018: Loss: [Train: 0.0896 | Validation: 0.0783 | Testing: 0.0783] LR: 0.001\n",
      "Epoch 019: Loss: [Train: 0.0875 | Validation: 0.0759 | Testing: 0.0760] LR: 0.001\n",
      "Message from callback (Early Stopping) counter: 1/3\n",
      "Epoch 020: Loss: [Train: 0.0859 | Validation: 0.0752 | Testing: 0.0752] LR: 0.001\n",
      "Epoch 021: Loss: [Train: 0.0846 | Validation: 0.0737 | Testing: 0.0728] LR: 0.001\n",
      "Message from callback (Early Stopping) counter: 1/3\n",
      "Epoch 022: Loss: [Train: 0.0827 | Validation: 0.0735 | Testing: 0.0727] LR: 0.001\n",
      "Epoch 023: Loss: [Train: 0.0830 | Validation: 0.0712 | Testing: 0.0703] LR: 0.001\n",
      "Message from callback (Early Stopping) counter: 1/3\n",
      "Epoch 024: Loss: [Train: 0.0808 | Validation: 0.0717 | Testing: 0.0708] LR: 0.001\n",
      "Message from callback (Early Stopping) counter: 2/3\n",
      "Epoch 025: Loss: [Train: 0.0794 | Validation: 0.0703 | Testing: 0.0690] LR: 0.001\n",
      "Epoch 026: Loss: [Train: 0.0788 | Validation: 0.0700 | Testing: 0.0691] LR: 0.001\n",
      "Epoch 027: Loss: [Train: 0.0775 | Validation: 0.0685 | Testing: 0.0676] LR: 0.001\n",
      "Message from callback (Early Stopping) counter: 1/3\n",
      "Epoch 028: Loss: [Train: 0.0779 | Validation: 0.0682 | Testing: 0.0672] LR: 0.001\n",
      "Message from callback (Early Stopping) counter: 2/3\n",
      "Epoch 029: Loss: [Train: 0.0767 | Validation: 0.0693 | Testing: 0.0681] LR: 0.001\n",
      "Message from callback (Early Stopping) counter: 3/3\n",
      "Training stopped -> Early Stopping Callback: validation_loss: 0.06951043113113863\n"
     ]
    }
   ],
   "source": [
    "train_nn()"
   ]
  },
  {
   "cell_type": "code",
   "execution_count": 52,
   "metadata": {},
   "outputs": [],
   "source": [
    "df_train_vl = pd.DataFrame.from_dict(loss_stat).reset_index().melt(id_vars=['index']).rename(columns={\"index\":\"epochs\"})"
   ]
  },
  {
   "cell_type": "code",
   "execution_count": 53,
   "metadata": {},
   "outputs": [
    {
     "data": {
      "text/plain": [
       "Text(0.5, 1.0, 'Train - Validation Loss/Epoch')"
      ]
     },
     "execution_count": 53,
     "metadata": {},
     "output_type": "execute_result"
    },
    {
     "data": {
      "image/png": "[encoded data removed]",
      "text/plain": [
       "<Figure size 640x480 with 1 Axes>"
      ]
     },
     "metadata": {},
     "output_type": "display_data"
    }
   ],
   "source": [
    "# fig, axes = plt.subplots(nrows=1, ncols=2, figsize=(20,7))\n",
    "sns.lineplot(data = df_train_vl, x = \"epochs\", y=\"value\", hue=\"variable\").set_title('Train - Validation Loss/Epoch')"
   ]
  },
  {
   "cell_type": "code",
   "execution_count": null,
   "metadata": {},
   "outputs": [],
   "source": []
  }
 ],
 "metadata": {
  "kernelspec": {
   "display_name": "tf",
   "language": "python",
   "name": "python3"
  },
  "language_info": {
   "codemirror_mode": {
    "name": "ipython",
    "version": 3
   },
   "file_extension": ".py",
   "mimetype": "text/x-python",
   "name": "python",
   "nbconvert_exporter": "python",
   "pygments_lexer": "ipython3",
   "version": "3.9.19"
  }
 },
 "nbformat": 4,
 "nbformat_minor": 2
}
